{
 "cells": [
  {
   "cell_type": "code",
   "execution_count": 7,
   "metadata": {},
   "outputs": [],
   "source": [
    "# Importing the libraries\n",
    "import numpy as np\n",
    "import matplotlib.pyplot as plt\n",
    "import pandas as pd"
   ]
  },
  {
   "cell_type": "code",
   "execution_count": 22,
   "metadata": {},
   "outputs": [],
   "source": [
    "# Importing the dataset\n",
    "dataset = pd.read_csv('Churn_Modelling.csv')"
   ]
  },
  {
   "cell_type": "code",
   "execution_count": 32,
   "metadata": {},
   "outputs": [],
   "source": [
    "X = dataset.iloc[:, 3:13].values\n",
    "y = dataset.iloc[:, -1].values"
   ]
  },
  {
   "cell_type": "code",
   "execution_count": 33,
   "metadata": {},
   "outputs": [
    {
     "data": {
      "text/html": [
       "<div>\n",
       "<style scoped>\n",
       "    .dataframe tbody tr th:only-of-type {\n",
       "        vertical-align: middle;\n",
       "    }\n",
       "\n",
       "    .dataframe tbody tr th {\n",
       "        vertical-align: top;\n",
       "    }\n",
       "\n",
       "    .dataframe thead th {\n",
       "        text-align: right;\n",
       "    }\n",
       "</style>\n",
       "<table border=\"1\" class=\"dataframe\">\n",
       "  <thead>\n",
       "    <tr style=\"text-align: right;\">\n",
       "      <th></th>\n",
       "      <th>RowNumber</th>\n",
       "      <th>CustomerId</th>\n",
       "      <th>Surname</th>\n",
       "      <th>CreditScore</th>\n",
       "      <th>Geography</th>\n",
       "      <th>Gender</th>\n",
       "      <th>Age</th>\n",
       "      <th>Tenure</th>\n",
       "      <th>Balance</th>\n",
       "      <th>NumOfProducts</th>\n",
       "      <th>HasCrCard</th>\n",
       "      <th>IsActiveMember</th>\n",
       "      <th>EstimatedSalary</th>\n",
       "      <th>Exited</th>\n",
       "    </tr>\n",
       "  </thead>\n",
       "  <tbody>\n",
       "    <tr>\n",
       "      <th>0</th>\n",
       "      <td>1</td>\n",
       "      <td>15634602</td>\n",
       "      <td>Hargrave</td>\n",
       "      <td>619</td>\n",
       "      <td>France</td>\n",
       "      <td>Female</td>\n",
       "      <td>42</td>\n",
       "      <td>2</td>\n",
       "      <td>0.00</td>\n",
       "      <td>1</td>\n",
       "      <td>1</td>\n",
       "      <td>1</td>\n",
       "      <td>101348.88</td>\n",
       "      <td>1</td>\n",
       "    </tr>\n",
       "    <tr>\n",
       "      <th>1</th>\n",
       "      <td>2</td>\n",
       "      <td>15647311</td>\n",
       "      <td>Hill</td>\n",
       "      <td>608</td>\n",
       "      <td>Spain</td>\n",
       "      <td>Female</td>\n",
       "      <td>41</td>\n",
       "      <td>1</td>\n",
       "      <td>83807.86</td>\n",
       "      <td>1</td>\n",
       "      <td>0</td>\n",
       "      <td>1</td>\n",
       "      <td>112542.58</td>\n",
       "      <td>0</td>\n",
       "    </tr>\n",
       "    <tr>\n",
       "      <th>2</th>\n",
       "      <td>3</td>\n",
       "      <td>15619304</td>\n",
       "      <td>Onio</td>\n",
       "      <td>502</td>\n",
       "      <td>France</td>\n",
       "      <td>Female</td>\n",
       "      <td>42</td>\n",
       "      <td>8</td>\n",
       "      <td>159660.80</td>\n",
       "      <td>3</td>\n",
       "      <td>1</td>\n",
       "      <td>0</td>\n",
       "      <td>113931.57</td>\n",
       "      <td>1</td>\n",
       "    </tr>\n",
       "    <tr>\n",
       "      <th>3</th>\n",
       "      <td>4</td>\n",
       "      <td>15701354</td>\n",
       "      <td>Boni</td>\n",
       "      <td>699</td>\n",
       "      <td>France</td>\n",
       "      <td>Female</td>\n",
       "      <td>39</td>\n",
       "      <td>1</td>\n",
       "      <td>0.00</td>\n",
       "      <td>2</td>\n",
       "      <td>0</td>\n",
       "      <td>0</td>\n",
       "      <td>93826.63</td>\n",
       "      <td>0</td>\n",
       "    </tr>\n",
       "    <tr>\n",
       "      <th>4</th>\n",
       "      <td>5</td>\n",
       "      <td>15737888</td>\n",
       "      <td>Mitchell</td>\n",
       "      <td>850</td>\n",
       "      <td>Spain</td>\n",
       "      <td>Female</td>\n",
       "      <td>43</td>\n",
       "      <td>2</td>\n",
       "      <td>125510.82</td>\n",
       "      <td>1</td>\n",
       "      <td>1</td>\n",
       "      <td>1</td>\n",
       "      <td>79084.10</td>\n",
       "      <td>0</td>\n",
       "    </tr>\n",
       "  </tbody>\n",
       "</table>\n",
       "</div>"
      ],
      "text/plain": [
       "   RowNumber  CustomerId   Surname  CreditScore Geography  Gender  Age  \\\n",
       "0          1    15634602  Hargrave          619    France  Female   42   \n",
       "1          2    15647311      Hill          608     Spain  Female   41   \n",
       "2          3    15619304      Onio          502    France  Female   42   \n",
       "3          4    15701354      Boni          699    France  Female   39   \n",
       "4          5    15737888  Mitchell          850     Spain  Female   43   \n",
       "\n",
       "   Tenure    Balance  NumOfProducts  HasCrCard  IsActiveMember  \\\n",
       "0       2       0.00              1          1               1   \n",
       "1       1   83807.86              1          0               1   \n",
       "2       8  159660.80              3          1               0   \n",
       "3       1       0.00              2          0               0   \n",
       "4       2  125510.82              1          1               1   \n",
       "\n",
       "   EstimatedSalary  Exited  \n",
       "0        101348.88       1  \n",
       "1        112542.58       0  \n",
       "2        113931.57       1  \n",
       "3         93826.63       0  \n",
       "4         79084.10       0  "
      ]
     },
     "execution_count": 33,
     "metadata": {},
     "output_type": "execute_result"
    }
   ],
   "source": [
    "dataset.head()"
   ]
  },
  {
   "cell_type": "code",
   "execution_count": 34,
   "metadata": {},
   "outputs": [
    {
     "data": {
      "text/plain": [
       "array([[619, 'France', 'Female', ..., 1, 1, 101348.88],\n",
       "       [608, 'Spain', 'Female', ..., 0, 1, 112542.58],\n",
       "       [502, 'France', 'Female', ..., 1, 0, 113931.57],\n",
       "       ...,\n",
       "       [709, 'France', 'Female', ..., 0, 1, 42085.58],\n",
       "       [772, 'Germany', 'Male', ..., 1, 0, 92888.52],\n",
       "       [792, 'France', 'Female', ..., 1, 0, 38190.78]], dtype=object)"
      ]
     },
     "execution_count": 34,
     "metadata": {},
     "output_type": "execute_result"
    }
   ],
   "source": [
    "X"
   ]
  },
  {
   "cell_type": "code",
   "execution_count": 35,
   "metadata": {},
   "outputs": [
    {
     "data": {
      "text/plain": [
       "array([1, 0, 1, ..., 1, 1, 0])"
      ]
     },
     "execution_count": 35,
     "metadata": {},
     "output_type": "execute_result"
    }
   ],
   "source": [
    "y"
   ]
  },
  {
   "cell_type": "code",
   "execution_count": 36,
   "metadata": {},
   "outputs": [],
   "source": [
    "# Encoding categorical Data\n",
    "from sklearn.preprocessing import LabelEncoder, OneHotEncoder\n",
    "labelencoder = LabelEncoder()"
   ]
  },
  {
   "cell_type": "code",
   "execution_count": 37,
   "metadata": {},
   "outputs": [],
   "source": [
    "X[:, 1] = labelencoder.fit_transform(X[:, 1])\n",
    "X[:, 2] = labelencoder.fit_transform(X[:, 2])"
   ]
  },
  {
   "cell_type": "code",
   "execution_count": 38,
   "metadata": {},
   "outputs": [
    {
     "data": {
      "text/plain": [
       "array([[619, 0, 0, ..., 1, 1, 101348.88],\n",
       "       [608, 2, 0, ..., 0, 1, 112542.58],\n",
       "       [502, 0, 0, ..., 1, 0, 113931.57],\n",
       "       ...,\n",
       "       [709, 0, 0, ..., 0, 1, 42085.58],\n",
       "       [772, 1, 1, ..., 1, 0, 92888.52],\n",
       "       [792, 0, 0, ..., 1, 0, 38190.78]], dtype=object)"
      ]
     },
     "execution_count": 38,
     "metadata": {},
     "output_type": "execute_result"
    }
   ],
   "source": [
    "X"
   ]
  },
  {
   "cell_type": "code",
   "execution_count": 39,
   "metadata": {},
   "outputs": [
    {
     "name": "stderr",
     "output_type": "stream",
     "text": [
      "/home/phoenix/anaconda3/lib/python3.6/site-packages/sklearn/preprocessing/_encoders.py:371: FutureWarning: The handling of integer data will change in version 0.22. Currently, the categories are determined based on the range [0, max(values)], while in the future they will be determined based on the unique values.\n",
      "If you want the future behaviour and silence this warning, you can specify \"categories='auto'\".\n",
      "In case you used a LabelEncoder before this OneHotEncoder to convert the categories to integers, then you can now use the OneHotEncoder directly.\n",
      "  warnings.warn(msg, FutureWarning)\n"
     ]
    }
   ],
   "source": [
    "onehot = OneHotEncoder(categorical_features=[1])\n",
    "X = onehot.fit_transform(X).toarray()"
   ]
  },
  {
   "cell_type": "code",
   "execution_count": 42,
   "metadata": {},
   "outputs": [
    {
     "data": {
      "text/plain": [
       "(10000, 12)"
      ]
     },
     "execution_count": 42,
     "metadata": {},
     "output_type": "execute_result"
    }
   ],
   "source": [
    "X.shape"
   ]
  },
  {
   "cell_type": "code",
   "execution_count": 43,
   "metadata": {},
   "outputs": [],
   "source": [
    " # avoiding dummy variable trap\n",
    "X = X[:, 1:]"
   ]
  },
  {
   "cell_type": "code",
   "execution_count": 44,
   "metadata": {},
   "outputs": [
    {
     "data": {
      "text/plain": [
       "array([[0.0000000e+00, 0.0000000e+00, 6.1900000e+02, ..., 1.0000000e+00,\n",
       "        1.0000000e+00, 1.0134888e+05],\n",
       "       [0.0000000e+00, 1.0000000e+00, 6.0800000e+02, ..., 0.0000000e+00,\n",
       "        1.0000000e+00, 1.1254258e+05],\n",
       "       [0.0000000e+00, 0.0000000e+00, 5.0200000e+02, ..., 1.0000000e+00,\n",
       "        0.0000000e+00, 1.1393157e+05],\n",
       "       ...,\n",
       "       [0.0000000e+00, 0.0000000e+00, 7.0900000e+02, ..., 0.0000000e+00,\n",
       "        1.0000000e+00, 4.2085580e+04],\n",
       "       [1.0000000e+00, 0.0000000e+00, 7.7200000e+02, ..., 1.0000000e+00,\n",
       "        0.0000000e+00, 9.2888520e+04],\n",
       "       [0.0000000e+00, 0.0000000e+00, 7.9200000e+02, ..., 1.0000000e+00,\n",
       "        0.0000000e+00, 3.8190780e+04]])"
      ]
     },
     "execution_count": 44,
     "metadata": {},
     "output_type": "execute_result"
    }
   ],
   "source": [
    "X"
   ]
  },
  {
   "cell_type": "code",
   "execution_count": 45,
   "metadata": {},
   "outputs": [],
   "source": [
    "# Splitting the dataset into the Training set and Test set\n",
    "from sklearn.model_selection import train_test_split\n",
    "X_train, X_test, y_train, y_test = train_test_split(X, y, test_size = 0.2, random_state = 0)"
   ]
  },
  {
   "cell_type": "code",
   "execution_count": 46,
   "metadata": {},
   "outputs": [],
   "source": [
    "# Feature Scaling\n",
    "from sklearn.preprocessing import StandardScaler\n",
    "sc = StandardScaler()\n",
    "X_train = sc.fit_transform(X_train)\n",
    "X_test = sc.transform(X_test)"
   ]
  },
  {
   "cell_type": "code",
   "execution_count": 49,
   "metadata": {},
   "outputs": [],
   "source": [
    "# Fitting classifier to the Training set\n",
    "# Create your classifier here\n",
    "import keras\n",
    "from keras.models import Sequential\n",
    "from keras.layers import Dense # to create the ann"
   ]
  },
  {
   "cell_type": "code",
   "execution_count": 51,
   "metadata": {},
   "outputs": [],
   "source": [
    "# initialize the neural network\n",
    "classifier = Sequential()"
   ]
  },
  {
   "cell_type": "code",
   "execution_count": 60,
   "metadata": {},
   "outputs": [],
   "source": [
    "# Adding input layers and hidden layers\n",
    "classifier.add(Dense(units=6, kernel_initializer='uniform', activation='relu', input_dim = 11))"
   ]
  },
  {
   "cell_type": "code",
   "execution_count": 62,
   "metadata": {},
   "outputs": [],
   "source": [
    "# adding second hidden layers\n",
    "classifier.add(Dense(units=6,\n",
    "                     kernel_initializer='uniform',\n",
    "                     activation='relu'))"
   ]
  },
  {
   "cell_type": "code",
   "execution_count": 63,
   "metadata": {},
   "outputs": [],
   "source": [
    "# ouput layer\n",
    "classifier.add(Dense(units=1,\n",
    "                     kernel_initializer='uniform',\n",
    "                     activation='sigmoid'))"
   ]
  },
  {
   "cell_type": "code",
   "execution_count": 64,
   "metadata": {},
   "outputs": [],
   "source": [
    "# compiling the ann - gradient descent\n",
    "classifier.compile(optimizer='adam', loss='binary_crossentropy', metrics=['accuracy'])"
   ]
  },
  {
   "cell_type": "code",
   "execution_count": 65,
   "metadata": {},
   "outputs": [
    {
     "name": "stdout",
     "output_type": "stream",
     "text": [
      "Epoch 1/100\n",
      "8000/8000 [==============================] - 3s 389us/step - loss: 0.5066 - acc: 0.7960\n",
      "Epoch 2/100\n",
      "8000/8000 [==============================] - 2s 230us/step - loss: 0.4319 - acc: 0.7960\n",
      "Epoch 3/100\n",
      "8000/8000 [==============================] - 2s 247us/step - loss: 0.4243 - acc: 0.7960\n",
      "Epoch 4/100\n",
      "8000/8000 [==============================] - 2s 235us/step - loss: 0.4192 - acc: 0.8102\n",
      "Epoch 5/100\n",
      "8000/8000 [==============================] - 2s 240us/step - loss: 0.4166 - acc: 0.8270\n",
      "Epoch 6/100\n",
      "8000/8000 [==============================] - 2s 247us/step - loss: 0.4146 - acc: 0.8294\n",
      "Epoch 7/100\n",
      "8000/8000 [==============================] - 2s 240us/step - loss: 0.4128 - acc: 0.8290\n",
      "Epoch 8/100\n",
      "8000/8000 [==============================] - 2s 269us/step - loss: 0.4118 - acc: 0.8321\n",
      "Epoch 9/100\n",
      "8000/8000 [==============================] - 2s 262us/step - loss: 0.4107 - acc: 0.8340\n",
      "Epoch 10/100\n",
      "8000/8000 [==============================] - 2s 247us/step - loss: 0.4096 - acc: 0.8341\n",
      "Epoch 11/100\n",
      "8000/8000 [==============================] - 2s 242us/step - loss: 0.4087 - acc: 0.8350\n",
      "Epoch 12/100\n",
      "8000/8000 [==============================] - 2s 250us/step - loss: 0.4081 - acc: 0.8341\n",
      "Epoch 13/100\n",
      "8000/8000 [==============================] - 2s 255us/step - loss: 0.4069 - acc: 0.8352\n",
      "Epoch 14/100\n",
      "8000/8000 [==============================] - 2s 261us/step - loss: 0.4060 - acc: 0.8346\n",
      "Epoch 15/100\n",
      "8000/8000 [==============================] - 2s 255us/step - loss: 0.4062 - acc: 0.8336\n",
      "Epoch 16/100\n",
      "8000/8000 [==============================] - 2s 268us/step - loss: 0.4055 - acc: 0.8356\n",
      "Epoch 17/100\n",
      "8000/8000 [==============================] - 2s 253us/step - loss: 0.4050 - acc: 0.8331\n",
      "Epoch 18/100\n",
      "8000/8000 [==============================] - 2s 253us/step - loss: 0.4046 - acc: 0.8340\n",
      "Epoch 19/100\n",
      "8000/8000 [==============================] - 2s 281us/step - loss: 0.4040 - acc: 0.8340\n",
      "Epoch 20/100\n",
      "8000/8000 [==============================] - 2s 254us/step - loss: 0.4042 - acc: 0.8349\n",
      "Epoch 21/100\n",
      "8000/8000 [==============================] - 2s 255us/step - loss: 0.4028 - acc: 0.8364\n",
      "Epoch 22/100\n",
      "8000/8000 [==============================] - 2s 251us/step - loss: 0.4033 - acc: 0.8331\n",
      "Epoch 23/100\n",
      "8000/8000 [==============================] - 2s 251us/step - loss: 0.4029 - acc: 0.8366\n",
      "Epoch 24/100\n",
      "8000/8000 [==============================] - 2s 251us/step - loss: 0.4025 - acc: 0.8344\n",
      "Epoch 25/100\n",
      "8000/8000 [==============================] - 2s 261us/step - loss: 0.4027 - acc: 0.8347\n",
      "Epoch 26/100\n",
      "8000/8000 [==============================] - 2s 258us/step - loss: 0.4029 - acc: 0.8334\n",
      "Epoch 27/100\n",
      "8000/8000 [==============================] - 2s 271us/step - loss: 0.4019 - acc: 0.8335\n",
      "Epoch 28/100\n",
      "8000/8000 [==============================] - 2s 288us/step - loss: 0.4021 - acc: 0.8335\n",
      "Epoch 29/100\n",
      "8000/8000 [==============================] - 2s 294us/step - loss: 0.4016 - acc: 0.8354\n",
      "Epoch 30/100\n",
      "8000/8000 [==============================] - 2s 274us/step - loss: 0.4019 - acc: 0.8340\n",
      "Epoch 31/100\n",
      "8000/8000 [==============================] - 2s 300us/step - loss: 0.4020 - acc: 0.8342\n",
      "Epoch 32/100\n",
      "8000/8000 [==============================] - 2s 276us/step - loss: 0.4017 - acc: 0.8335\n",
      "Epoch 33/100\n",
      "8000/8000 [==============================] - 2s 276us/step - loss: 0.4018 - acc: 0.8345\n",
      "Epoch 34/100\n",
      "8000/8000 [==============================] - 2s 269us/step - loss: 0.4016 - acc: 0.8362\n",
      "Epoch 35/100\n",
      "8000/8000 [==============================] - 2s 272us/step - loss: 0.4015 - acc: 0.8349\n",
      "Epoch 36/100\n",
      "8000/8000 [==============================] - 2s 262us/step - loss: 0.4005 - acc: 0.8349\n",
      "Epoch 37/100\n",
      "8000/8000 [==============================] - 2s 274us/step - loss: 0.4013 - acc: 0.8367\n",
      "Epoch 38/100\n",
      "8000/8000 [==============================] - 2s 267us/step - loss: 0.4010 - acc: 0.8364\n",
      "Epoch 39/100\n",
      "8000/8000 [==============================] - 2s 270us/step - loss: 0.4012 - acc: 0.8362\n",
      "Epoch 40/100\n",
      "8000/8000 [==============================] - 2s 262us/step - loss: 0.4009 - acc: 0.8361\n",
      "Epoch 41/100\n",
      "8000/8000 [==============================] - 2s 262us/step - loss: 0.4008 - acc: 0.8357\n",
      "Epoch 42/100\n",
      "8000/8000 [==============================] - 2s 257us/step - loss: 0.4008 - acc: 0.8344\n",
      "Epoch 43/100\n",
      "8000/8000 [==============================] - 2s 272us/step - loss: 0.4007 - acc: 0.8351\n",
      "Epoch 44/100\n",
      "8000/8000 [==============================] - ETA: 0s - loss: 0.4011 - acc: 0.834 - 2s 275us/step - loss: 0.4009 - acc: 0.8347\n",
      "Epoch 45/100\n",
      "8000/8000 [==============================] - 2s 275us/step - loss: 0.4010 - acc: 0.8355\n",
      "Epoch 46/100\n",
      "8000/8000 [==============================] - 2s 269us/step - loss: 0.4009 - acc: 0.8369\n",
      "Epoch 47/100\n",
      "8000/8000 [==============================] - 3s 316us/step - loss: 0.4007 - acc: 0.8351\n",
      "Epoch 48/100\n",
      "8000/8000 [==============================] - 2s 311us/step - loss: 0.4004 - acc: 0.8344\n",
      "Epoch 49/100\n",
      "8000/8000 [==============================] - 2s 309us/step - loss: 0.4008 - acc: 0.8351\n",
      "Epoch 50/100\n",
      "8000/8000 [==============================] - 2s 303us/step - loss: 0.4006 - acc: 0.8352\n",
      "Epoch 51/100\n",
      "8000/8000 [==============================] - 2s 273us/step - loss: 0.4006 - acc: 0.8347\n",
      "Epoch 52/100\n",
      "8000/8000 [==============================] - 2s 269us/step - loss: 0.4007 - acc: 0.8362\n",
      "Epoch 53/100\n",
      "8000/8000 [==============================] - 2s 275us/step - loss: 0.4004 - acc: 0.8339\n",
      "Epoch 54/100\n",
      "8000/8000 [==============================] - 3s 346us/step - loss: 0.4001 - acc: 0.8352\n",
      "Epoch 55/100\n",
      "8000/8000 [==============================] - 2s 285us/step - loss: 0.4006 - acc: 0.8374\n",
      "Epoch 56/100\n",
      "8000/8000 [==============================] - 2s 280us/step - loss: 0.4013 - acc: 0.8340\n",
      "Epoch 57/100\n",
      "8000/8000 [==============================] - 2s 309us/step - loss: 0.4001 - acc: 0.8360\n",
      "Epoch 58/100\n",
      "8000/8000 [==============================] - 2s 292us/step - loss: 0.4005 - acc: 0.8350\n",
      "Epoch 59/100\n",
      "8000/8000 [==============================] - 2s 289us/step - loss: 0.4003 - acc: 0.8362\n",
      "Epoch 60/100\n",
      "8000/8000 [==============================] - 2s 290us/step - loss: 0.4005 - acc: 0.8356\n",
      "Epoch 61/100\n",
      "8000/8000 [==============================] - 2s 286us/step - loss: 0.4003 - acc: 0.8371\n",
      "Epoch 62/100\n",
      "8000/8000 [==============================] - 2s 278us/step - loss: 0.3995 - acc: 0.8351\n",
      "Epoch 63/100\n",
      "8000/8000 [==============================] - 2s 299us/step - loss: 0.4002 - acc: 0.8361\n",
      "Epoch 64/100\n",
      "8000/8000 [==============================] - 3s 393us/step - loss: 0.4002 - acc: 0.8357\n",
      "Epoch 65/100\n",
      "8000/8000 [==============================] - 2s 310us/step - loss: 0.4000 - acc: 0.8360\n",
      "Epoch 66/100\n",
      "8000/8000 [==============================] - 2s 305us/step - loss: 0.3997 - acc: 0.8336\n",
      "Epoch 67/100\n",
      "8000/8000 [==============================] - 2s 286us/step - loss: 0.3997 - acc: 0.8374\n",
      "Epoch 68/100\n",
      "8000/8000 [==============================] - 2s 280us/step - loss: 0.4000 - acc: 0.8351\n",
      "Epoch 69/100\n",
      "8000/8000 [==============================] - 2s 280us/step - loss: 0.4003 - acc: 0.8329\n",
      "Epoch 70/100\n",
      "8000/8000 [==============================] - 2s 288us/step - loss: 0.3996 - acc: 0.8351\n",
      "Epoch 71/100\n",
      "8000/8000 [==============================] - 2s 274us/step - loss: 0.3995 - acc: 0.8351\n",
      "Epoch 72/100\n",
      "8000/8000 [==============================] - 2s 282us/step - loss: 0.4000 - acc: 0.8377\n",
      "Epoch 73/100\n",
      "8000/8000 [==============================] - 2s 272us/step - loss: 0.4004 - acc: 0.8352\n",
      "Epoch 74/100\n",
      "8000/8000 [==============================] - 2s 230us/step - loss: 0.4005 - acc: 0.8346\n",
      "Epoch 75/100\n",
      "8000/8000 [==============================] - 2s 239us/step - loss: 0.4006 - acc: 0.8350\n",
      "Epoch 76/100\n",
      "8000/8000 [==============================] - 2s 236us/step - loss: 0.4000 - acc: 0.8367\n",
      "Epoch 77/100\n",
      "8000/8000 [==============================] - 2s 280us/step - loss: 0.4000 - acc: 0.8359\n",
      "Epoch 78/100\n",
      "8000/8000 [==============================] - 2s 277us/step - loss: 0.3996 - acc: 0.8366\n",
      "Epoch 79/100\n",
      "8000/8000 [==============================] - 2s 296us/step - loss: 0.4004 - acc: 0.8359\n",
      "Epoch 80/100\n",
      "8000/8000 [==============================] - 2s 275us/step - loss: 0.4001 - acc: 0.8352\n",
      "Epoch 81/100\n"
     ]
    },
    {
     "name": "stdout",
     "output_type": "stream",
     "text": [
      "8000/8000 [==============================] - 2s 252us/step - loss: 0.3999 - acc: 0.8344\n",
      "Epoch 82/100\n",
      "8000/8000 [==============================] - 2s 253us/step - loss: 0.4000 - acc: 0.8372\n",
      "Epoch 83/100\n",
      "8000/8000 [==============================] - 2s 239us/step - loss: 0.3999 - acc: 0.8352\n",
      "Epoch 84/100\n",
      "8000/8000 [==============================] - 2s 253us/step - loss: 0.3998 - acc: 0.8351\n",
      "Epoch 85/100\n",
      "8000/8000 [==============================] - 2s 267us/step - loss: 0.3997 - acc: 0.8357\n",
      "Epoch 86/100\n",
      "8000/8000 [==============================] - 2s 261us/step - loss: 0.3994 - acc: 0.8350\n",
      "Epoch 87/100\n",
      "8000/8000 [==============================] - 2s 262us/step - loss: 0.3996 - acc: 0.8360\n",
      "Epoch 88/100\n",
      "8000/8000 [==============================] - 2s 272us/step - loss: 0.4002 - acc: 0.8345\n",
      "Epoch 89/100\n",
      "8000/8000 [==============================] - 2s 272us/step - loss: 0.3999 - acc: 0.8356\n",
      "Epoch 90/100\n",
      "8000/8000 [==============================] - 2s 265us/step - loss: 0.4000 - acc: 0.8351\n",
      "Epoch 91/100\n",
      "8000/8000 [==============================] - 2s 270us/step - loss: 0.3994 - acc: 0.8360\n",
      "Epoch 92/100\n",
      "8000/8000 [==============================] - 2s 265us/step - loss: 0.3997 - acc: 0.8365\n",
      "Epoch 93/100\n",
      "8000/8000 [==============================] - 2s 262us/step - loss: 0.3995 - acc: 0.8344\n",
      "Epoch 94/100\n",
      "8000/8000 [==============================] - 2s 255us/step - loss: 0.4002 - acc: 0.8364\n",
      "Epoch 95/100\n",
      "8000/8000 [==============================] - 2s 272us/step - loss: 0.3997 - acc: 0.8342\n",
      "Epoch 96/100\n",
      "8000/8000 [==============================] - 2s 241us/step - loss: 0.3994 - acc: 0.8355\n",
      "Epoch 97/100\n",
      "8000/8000 [==============================] - 2s 288us/step - loss: 0.3997 - acc: 0.8349\n",
      "Epoch 98/100\n",
      "8000/8000 [==============================] - 2s 275us/step - loss: 0.3996 - acc: 0.8347\n",
      "Epoch 99/100\n",
      "8000/8000 [==============================] - 2s 266us/step - loss: 0.3993 - acc: 0.8346\n",
      "Epoch 100/100\n",
      "8000/8000 [==============================] - 2s 270us/step - loss: 0.4001 - acc: 0.8364\n"
     ]
    },
    {
     "data": {
      "text/plain": [
       "<keras.callbacks.History at 0x7f5c18086358>"
      ]
     },
     "execution_count": 65,
     "metadata": {},
     "output_type": "execute_result"
    }
   ],
   "source": [
    "# fit ann to training set\n",
    "classifier.fit(X_train, y_train, batch_size=10, epochs=100)"
   ]
  },
  {
   "cell_type": "code",
   "execution_count": 87,
   "metadata": {},
   "outputs": [],
   "source": [
    "# Predicting the Test set results\n",
    "y_pred = classifier.predict(X_test)"
   ]
  },
  {
   "cell_type": "code",
   "execution_count": 88,
   "metadata": {},
   "outputs": [],
   "source": [
    "y_pred = (y_pred > 0.5)"
   ]
  },
  {
   "cell_type": "code",
   "execution_count": 89,
   "metadata": {},
   "outputs": [
    {
     "data": {
      "text/plain": [
       "(2000,)"
      ]
     },
     "execution_count": 89,
     "metadata": {},
     "output_type": "execute_result"
    }
   ],
   "source": [
    "y_test.shape"
   ]
  },
  {
   "cell_type": "code",
   "execution_count": 91,
   "metadata": {},
   "outputs": [
    {
     "data": {
      "text/plain": [
       "(2000, 1)"
      ]
     },
     "execution_count": 91,
     "metadata": {},
     "output_type": "execute_result"
    }
   ],
   "source": [
    "y_pred.shape"
   ]
  },
  {
   "cell_type": "code",
   "execution_count": 93,
   "metadata": {},
   "outputs": [
    {
     "name": "stdout",
     "output_type": "stream",
     "text": [
      "[[1540   55]\n",
      " [ 267  138]]\n"
     ]
    }
   ],
   "source": [
    "# Making the Confusion Matrix\n",
    "from sklearn.metrics import confusion_matrix\n",
    "cm = confusion_matrix(y_test, y_pred); print(cm)"
   ]
  },
  {
   "cell_type": "code",
   "execution_count": 94,
   "metadata": {},
   "outputs": [
    {
     "data": {
      "text/plain": [
       "0.839"
      ]
     },
     "execution_count": 94,
     "metadata": {},
     "output_type": "execute_result"
    }
   ],
   "source": [
    "(1540 + 138)/2000"
   ]
  },
  {
   "cell_type": "code",
   "execution_count": null,
   "metadata": {},
   "outputs": [],
   "source": []
  }
 ],
 "metadata": {
  "kernelspec": {
   "display_name": "Python 3",
   "language": "python",
   "name": "python3"
  },
  "language_info": {
   "codemirror_mode": {
    "name": "ipython",
    "version": 3
   },
   "file_extension": ".py",
   "mimetype": "text/x-python",
   "name": "python",
   "nbconvert_exporter": "python",
   "pygments_lexer": "ipython3",
   "version": "3.6.5"
  }
 },
 "nbformat": 4,
 "nbformat_minor": 2
}
